{
  "nbformat": 4,
  "nbformat_minor": 0,
  "metadata": {
    "colab": {
      "provenance": []
    },
    "kernelspec": {
      "name": "python3",
      "display_name": "Python 3"
    },
    "language_info": {
      "name": "python"
    }
  },
  "cells": [
    {
      "cell_type": "markdown",
      "source": [],
      "metadata": {
        "id": "XDJP0lEz6ETE"
      }
    },
    {
      "cell_type": "code",
      "execution_count": 4,
      "metadata": {
        "id": "VtOmvkzHoN6v"
      },
      "outputs": [],
      "source": [
        "import pandas as pd\n",
        "import numpy as np\n",
        "\n",
        "# Loading the Titanic dataset\n",
        "titanic_df = pd.read_csv('/content/drive/MyDrive/Concepts and Technology of AI/week3/Titanic-Dataset.csv')\n"
      ]
    },
    {
      "cell_type": "markdown",
      "source": [
        "Problem 1 - Sorting:\n"
      ],
      "metadata": {
        "id": "YmKAV4R_9Yrf"
      }
    },
    {
      "cell_type": "markdown",
      "source": [
        "1. Create a DataFrame called fare that contains only the Fare column of the Titanic dataset. Print the\n",
        "head of the result"
      ],
      "metadata": {
        "id": "Kgw_MMHd5MSP"
      }
    },
    {
      "cell_type": "code",
      "source": [
        "fare = titanic_df[['Fare']]\n",
        "print(\"Fare DataFrame\")\n",
        "print(fare.head())"
      ],
      "metadata": {
        "colab": {
          "base_uri": "https://localhost:8080/"
        },
        "id": "cR3kx6qp5YKn",
        "outputId": "20516bb1-2cdb-4ba2-a2ec-5f5d86dc46e3"
      },
      "execution_count": 3,
      "outputs": [
        {
          "output_type": "stream",
          "name": "stdout",
          "text": [
            "Fare DataFrame\n",
            "      Fare\n",
            "0   7.2500\n",
            "1  71.2833\n",
            "2   7.9250\n",
            "3  53.1000\n",
            "4   8.0500\n"
          ]
        }
      ]
    },
    {
      "cell_type": "markdown",
      "source": [
        "2. Create a DataFrame called class age that contains only the Pclass and Age columns of the Titanic\n",
        "dataset, in that order. Print the head of the result."
      ],
      "metadata": {
        "id": "GuN_ItAY6Qd2"
      }
    },
    {
      "cell_type": "code",
      "source": [
        "class_age = titanic_df[['Pclass', 'Age']]\n",
        "print(\"Pclass and Age DataFrame\")\n",
        "print(class_age.head())"
      ],
      "metadata": {
        "colab": {
          "base_uri": "https://localhost:8080/"
        },
        "id": "ALy7bnpD6VPj",
        "outputId": "35d421a5-00bf-4d90-e968-2a17825942fb"
      },
      "execution_count": 5,
      "outputs": [
        {
          "output_type": "stream",
          "name": "stdout",
          "text": [
            "Pclass and Age DataFrame\n",
            "   Pclass   Age\n",
            "0       3  22.0\n",
            "1       1  38.0\n",
            "2       3  26.0\n",
            "3       1  35.0\n",
            "4       3  35.0\n"
          ]
        }
      ]
    },
    {
      "cell_type": "markdown",
      "source": [
        "3. Create a DataFrame called survived gender that contains the Survived and Sex columns of the\n",
        "Titanic dataset, in that order.Print the head of the result.\n"
      ],
      "metadata": {
        "id": "HDmiUXf36d5s"
      }
    },
    {
      "cell_type": "code",
      "source": [
        "survived_gender = titanic_df[['Survived', 'Sex']]\n",
        "print(\"Survived and Sex DataFrame\")\n",
        "print(survived_gender.head())"
      ],
      "metadata": {
        "colab": {
          "base_uri": "https://localhost:8080/"
        },
        "id": "JIabdwow6gWN",
        "outputId": "47d24633-6d1c-4876-af8f-7eb8117d3cf5"
      },
      "execution_count": 6,
      "outputs": [
        {
          "output_type": "stream",
          "name": "stdout",
          "text": [
            "Survived and Sex DataFrame\n",
            "   Survived     Sex\n",
            "0         0    male\n",
            "1         1  female\n",
            "2         1  female\n",
            "3         1  female\n",
            "4         0    male\n"
          ]
        }
      ]
    },
    {
      "cell_type": "markdown",
      "source": [
        "Problem - 2 - Subsetting:"
      ],
      "metadata": {
        "id": "B0DSoYhY9tsS"
      }
    },
    {
      "cell_type": "markdown",
      "source": [
        "1.Filter the Titanic dataset for cases where the passenger’s fare is greater than 100, assigning it\n",
        "to fare gt 100.View the printed result."
      ],
      "metadata": {
        "id": "F0Imkz1a6l9X"
      }
    },
    {
      "cell_type": "code",
      "source": [
        "fare_gt_100 = titanic_df[titanic_df['Fare'] > 100]\n",
        "print(\"Passengers with Fare > 100\")\n",
        "print(fare_gt_100.head())"
      ],
      "metadata": {
        "colab": {
          "base_uri": "https://localhost:8080/"
        },
        "id": "QmhnewEA6qOl",
        "outputId": "7e1f1399-516d-439b-80c5-c71aa21b3bbb"
      },
      "execution_count": 7,
      "outputs": [
        {
          "output_type": "stream",
          "name": "stdout",
          "text": [
            "Passengers with Fare > 100\n",
            "     PassengerId  Survived  Pclass  \\\n",
            "27            28         0       1   \n",
            "31            32         1       1   \n",
            "88            89         1       1   \n",
            "118          119         0       1   \n",
            "195          196         1       1   \n",
            "\n",
            "                                               Name     Sex   Age  SibSp  \\\n",
            "27                   Fortune, Mr. Charles Alexander    male  19.0      3   \n",
            "31   Spencer, Mrs. William Augustus (Marie Eugenie)  female   NaN      1   \n",
            "88                       Fortune, Miss. Mabel Helen  female  23.0      3   \n",
            "118                        Baxter, Mr. Quigg Edmond    male  24.0      0   \n",
            "195                            Lurette, Miss. Elise  female  58.0      0   \n",
            "\n",
            "     Parch    Ticket      Fare        Cabin Embarked  \n",
            "27       2     19950  263.0000  C23 C25 C27        S  \n",
            "31       0  PC 17569  146.5208          B78        C  \n",
            "88       2     19950  263.0000  C23 C25 C27        S  \n",
            "118      1  PC 17558  247.5208      B58 B60        C  \n",
            "195      0  PC 17569  146.5208          B80        C  \n"
          ]
        }
      ]
    },
    {
      "cell_type": "markdown",
      "source": [
        "2. Filter the Titanic dataset for cases where the passenger’s class (Pclass) is 1, assigning it to\n",
        "first class.View the printed result.\n"
      ],
      "metadata": {
        "id": "bx43vSg068ST"
      }
    },
    {
      "cell_type": "code",
      "source": [
        "first_class = titanic_df[titanic_df['Pclass'] == 1]\n",
        "print(\"First Class Passengers\")\n",
        "print(first_class.head())"
      ],
      "metadata": {
        "colab": {
          "base_uri": "https://localhost:8080/"
        },
        "id": "2jpA4OIL6-mp",
        "outputId": "f574d5f8-31c0-4254-d53d-2649b4ca6028"
      },
      "execution_count": 8,
      "outputs": [
        {
          "output_type": "stream",
          "name": "stdout",
          "text": [
            "First Class Passengers\n",
            "    PassengerId  Survived  Pclass  \\\n",
            "1             2         1       1   \n",
            "3             4         1       1   \n",
            "6             7         0       1   \n",
            "11           12         1       1   \n",
            "23           24         1       1   \n",
            "\n",
            "                                                 Name     Sex   Age  SibSp  \\\n",
            "1   Cumings, Mrs. John Bradley (Florence Briggs Th...  female  38.0      1   \n",
            "3        Futrelle, Mrs. Jacques Heath (Lily May Peel)  female  35.0      1   \n",
            "6                             McCarthy, Mr. Timothy J    male  54.0      0   \n",
            "11                           Bonnell, Miss. Elizabeth  female  58.0      0   \n",
            "23                       Sloper, Mr. William Thompson    male  28.0      0   \n",
            "\n",
            "    Parch    Ticket     Fare Cabin Embarked  \n",
            "1       0  PC 17599  71.2833   C85        C  \n",
            "3       0    113803  53.1000  C123        S  \n",
            "6       0     17463  51.8625   E46        S  \n",
            "11      0    113783  26.5500  C103        S  \n",
            "23      0    113788  35.5000    A6        S  \n"
          ]
        }
      ]
    },
    {
      "cell_type": "markdown",
      "source": [
        "3. Filter the Titanic dataset for cases where the passenger’s age is less than 18 and the passenger\n",
        "is female (Sex is \"female\"), assigning it to female under 18. View the printed result."
      ],
      "metadata": {
        "id": "2icGCC_k7CMZ"
      }
    },
    {
      "cell_type": "code",
      "source": [
        "female_under_18 = titanic_df[(titanic_df['Age'] < 18) & (titanic_df['Sex'] == 'female')]\n",
        "print(\"Female Passengers Under 18\")\n",
        "print(female_under_18.head())"
      ],
      "metadata": {
        "colab": {
          "base_uri": "https://localhost:8080/"
        },
        "id": "JaERg1k67KPP",
        "outputId": "c9addce7-cdcf-4901-bb3a-c54e44acd267"
      },
      "execution_count": 9,
      "outputs": [
        {
          "output_type": "stream",
          "name": "stdout",
          "text": [
            "Female Passengers Under 18\n",
            "    PassengerId  Survived  Pclass                                  Name  \\\n",
            "9            10         1       2   Nasser, Mrs. Nicholas (Adele Achem)   \n",
            "10           11         1       3       Sandstrom, Miss. Marguerite Rut   \n",
            "14           15         0       3  Vestrom, Miss. Hulda Amanda Adolfina   \n",
            "22           23         1       3           McGowan, Miss. Anna \"Annie\"   \n",
            "24           25         0       3         Palsson, Miss. Torborg Danira   \n",
            "\n",
            "       Sex   Age  SibSp  Parch   Ticket     Fare Cabin Embarked  \n",
            "9   female  14.0      1      0   237736  30.0708   NaN        C  \n",
            "10  female   4.0      1      1  PP 9549  16.7000    G6        S  \n",
            "14  female  14.0      0      0   350406   7.8542   NaN        S  \n",
            "22  female  15.0      0      0   330923   8.0292   NaN        Q  \n",
            "24  female   8.0      3      1   349909  21.0750   NaN        S  \n"
          ]
        }
      ]
    },
    {
      "cell_type": "markdown",
      "source": [
        "Subsetting Rows by Categorical variables:"
      ],
      "metadata": {
        "id": "6X4gJjfn9-XS"
      }
    },
    {
      "cell_type": "markdown",
      "source": [
        "1. Filter the Titanic dataset for passengers whose Embarked port is either \"C\" (Cherbourg) or \"S\"\n",
        "(Southampton), assigning the result to embarked c or s. View the printed result.\n"
      ],
      "metadata": {
        "id": "udTv4mNg7fDg"
      }
    },
    {
      "cell_type": "code",
      "source": [
        "embarked_c_or_s = titanic_df[titanic_df['Embarked'].isin(['C', 'S'])]\n",
        "print(\"Passengers from Cherbourg or Southampton\")\n",
        "print(embarked_c_or_s.head())"
      ],
      "metadata": {
        "colab": {
          "base_uri": "https://localhost:8080/"
        },
        "id": "yHL5jHsn7oSJ",
        "outputId": "1d9e5ba4-f2f2-4108-9a05-f58256304b15"
      },
      "execution_count": 10,
      "outputs": [
        {
          "output_type": "stream",
          "name": "stdout",
          "text": [
            "Passengers from Cherbourg or Southampton\n",
            "   PassengerId  Survived  Pclass  \\\n",
            "0            1         0       3   \n",
            "1            2         1       1   \n",
            "2            3         1       3   \n",
            "3            4         1       1   \n",
            "4            5         0       3   \n",
            "\n",
            "                                                Name     Sex   Age  SibSp  \\\n",
            "0                            Braund, Mr. Owen Harris    male  22.0      1   \n",
            "1  Cumings, Mrs. John Bradley (Florence Briggs Th...  female  38.0      1   \n",
            "2                             Heikkinen, Miss. Laina  female  26.0      0   \n",
            "3       Futrelle, Mrs. Jacques Heath (Lily May Peel)  female  35.0      1   \n",
            "4                           Allen, Mr. William Henry    male  35.0      0   \n",
            "\n",
            "   Parch            Ticket     Fare Cabin Embarked  \n",
            "0      0         A/5 21171   7.2500   NaN        S  \n",
            "1      0          PC 17599  71.2833   C85        C  \n",
            "2      0  STON/O2. 3101282   7.9250   NaN        S  \n",
            "3      0            113803  53.1000  C123        S  \n",
            "4      0            373450   8.0500   NaN        S  \n"
          ]
        }
      ]
    },
    {
      "cell_type": "markdown",
      "source": [
        "2. Filter the Titanic dataset for passengers whose Pclass is in the list [1, 2] (indicating first\n",
        "or second class), assigning the result to first second class.View the printed result.\n"
      ],
      "metadata": {
        "id": "5S3UUsG_7vN3"
      }
    },
    {
      "cell_type": "code",
      "source": [
        "first_second_class = titanic_df[titanic_df['Pclass'].isin([1, 2])]\n",
        "print(\"First and Second Class Passengers\")\n",
        "print(first_second_class.head())"
      ],
      "metadata": {
        "colab": {
          "base_uri": "https://localhost:8080/"
        },
        "id": "elA7Ek-e7yj6",
        "outputId": "91a38c4c-9211-43c9-ecf9-edf05b59f429"
      },
      "execution_count": 11,
      "outputs": [
        {
          "output_type": "stream",
          "name": "stdout",
          "text": [
            "First and Second Class Passengers\n",
            "    PassengerId  Survived  Pclass  \\\n",
            "1             2         1       1   \n",
            "3             4         1       1   \n",
            "6             7         0       1   \n",
            "9            10         1       2   \n",
            "11           12         1       1   \n",
            "\n",
            "                                                 Name     Sex   Age  SibSp  \\\n",
            "1   Cumings, Mrs. John Bradley (Florence Briggs Th...  female  38.0      1   \n",
            "3        Futrelle, Mrs. Jacques Heath (Lily May Peel)  female  35.0      1   \n",
            "6                             McCarthy, Mr. Timothy J    male  54.0      0   \n",
            "9                 Nasser, Mrs. Nicholas (Adele Achem)  female  14.0      1   \n",
            "11                           Bonnell, Miss. Elizabeth  female  58.0      0   \n",
            "\n",
            "    Parch    Ticket     Fare Cabin Embarked  \n",
            "1       0  PC 17599  71.2833   C85        C  \n",
            "3       0    113803  53.1000  C123        S  \n",
            "6       0     17463  51.8625   E46        S  \n",
            "9       0    237736  30.0708   NaN        C  \n",
            "11      0    113783  26.5500  C103        S  \n"
          ]
        }
      ]
    },
    {
      "cell_type": "markdown",
      "source": [
        "3.2 Exploratory Data Analysis Practice Exercise - 1"
      ],
      "metadata": {
        "id": "HVdyZiMr74-O"
      }
    },
    {
      "cell_type": "markdown",
      "source": [
        "Which passenger had the highest fare paid relative to their age?\n",
        "To answer the question perform following operations:\n",
        "1. Add a column to the Titanic dataset, fare per year, containing the fare divided by the age of\n",
        "the passenger(i.e., Fare/Age).\n",
        "2. Subset rows where fare per year is higher than 5, assigning this to high fare age.\n",
        "3. Sort high fare age by descending fare per year, assigning this to high fare age srt.\n",
        "4. Select only the Name and fare per year columns of high fare age srt and save the result as result.\n",
        "5. Look at the result"
      ],
      "metadata": {
        "id": "n2QeaKcF-TMW"
      }
    },
    {
      "cell_type": "code",
      "source": [
        "# Handling missing values in Age column\n",
        "titanic_df['Age'] = titanic_df['Age'].fillna(titanic_df['Age'].median())"
      ],
      "metadata": {
        "id": "TeDnBJOH8EtT"
      },
      "execution_count": 13,
      "outputs": []
    },
    {
      "cell_type": "code",
      "source": [
        "# First question: Fare per year\n",
        "\n",
        "#1\n",
        "titanic_df['fare_per_year'] = titanic_df['Fare'] / titanic_df['Age']\n",
        "#2\n",
        "high_fare_age = titanic_df[titanic_df['fare_per_year'] > 5]\n",
        "#3\n",
        "high_fare_age_srt = high_fare_age.sort_values('fare_per_year', ascending=False)\n",
        "#4\n",
        "result = high_fare_age_srt[['Name', 'fare_per_year']]\n",
        "#5\n",
        "print(\"Passengers with High Fare per Year\")\n",
        "print(result)"
      ],
      "metadata": {
        "colab": {
          "base_uri": "https://localhost:8080/"
        },
        "id": "s79Mrfi78x0f",
        "outputId": "4ec7dc3f-051e-40e4-8cc2-a8b9e12a4356"
      },
      "execution_count": 14,
      "outputs": [
        {
          "output_type": "stream",
          "name": "stdout",
          "text": [
            "Passengers with High Fare per Year\n",
            "                                               Name  fare_per_year\n",
            "305                  Allison, Master. Hudson Trevor     164.728261\n",
            "297                    Allison, Miss. Helen Loraine      75.775000\n",
            "386                 Goodwin, Master. Sidney Leonard      46.900000\n",
            "164                    Panula, Master. Eino Viljami      39.687500\n",
            "183                       Becker, Master. Richard F      39.000000\n",
            "..                                              ...            ...\n",
            "348          Coutts, Master. William Loch \"William\"       5.300000\n",
            "31   Spencer, Mrs. William Augustus (Marie Eugenie)       5.232886\n",
            "205                      Strom, Miss. Telma Matilda       5.231250\n",
            "813              Andersson, Miss. Ebba Iris Alfrida       5.212500\n",
            "480                  Goodwin, Master. Harold Victor       5.211111\n",
            "\n",
            "[71 rows x 2 columns]\n"
          ]
        }
      ]
    },
    {
      "cell_type": "markdown",
      "source": [
        "Which adult male passenger (age ≥ 18 and Sex is ’male’) paid the highest fare relative to their\n",
        "class?\n",
        "To answer the question perform following operations:\n",
        "1. Add a column to the Titanic dataset, fare per class, containing the fare divided by the passenger\n",
        "class i.e. Fare / Pclass.\n",
        "2. Subset rows where the passenger is male (Sex is ”male”) and an adult (Age is greater than or equal\n",
        "to 18), assigning this to adult males.\n",
        "3. Sort adult males by descending fare per class, assigning this to adult males srt.\n",
        "4. Select only the Name, Age, and fare per class columns of adult males sr and save the result\n",
        "as result.\n",
        "5. Look at the result.\n"
      ],
      "metadata": {
        "id": "uFdkMsQI-jnv"
      }
    },
    {
      "cell_type": "code",
      "source": [
        "# Second question: Fare per class for adult males\n",
        "\n",
        "#1\n",
        "titanic_df['fare_per_class'] = titanic_df['Fare'] / titanic_df['Pclass']\n",
        "#2\n",
        "adult_males = titanic_df[(titanic_df['Sex'] == 'male') & (titanic_df['Age'] >= 18)]\n",
        "#3\n",
        "adult_males_srt = adult_males.sort_values('fare_per_class', ascending=False)\n",
        "#4\n",
        "result = adult_males_srt[['Name', 'Age', 'fare_per_class']]\n",
        "#5\n",
        "print(\"Adult Male Passengers with High Fare per Class\")\n",
        "print(result)"
      ],
      "metadata": {
        "colab": {
          "base_uri": "https://localhost:8080/"
        },
        "id": "MxA-UB2T84Bz",
        "outputId": "edac8b00-42c3-4e58-e8b5-1df2e4f901c7"
      },
      "execution_count": 15,
      "outputs": [
        {
          "output_type": "stream",
          "name": "stdout",
          "text": [
            "Adult Male Passengers with High Fare per Class\n",
            "                                   Name   Age  fare_per_class\n",
            "737              Lesurer, Mr. Gustave J  35.0        512.3292\n",
            "679  Cardeza, Mr. Thomas Drake Martinez  36.0        512.3292\n",
            "438                   Fortune, Mr. Mark  64.0        263.0000\n",
            "27       Fortune, Mr. Charles Alexander  19.0        263.0000\n",
            "118            Baxter, Mr. Quigg Edmond  24.0        247.5208\n",
            "..                                  ...   ...             ...\n",
            "806              Andrews, Mr. Thomas Jr  39.0          0.0000\n",
            "481    Frost, Mr. Anthony Wood \"Archie\"  28.0          0.0000\n",
            "413      Cunningham, Mr. Alfred Fleming  28.0          0.0000\n",
            "466               Campbell, Mr. William  28.0          0.0000\n",
            "271        Tornquist, Mr. William Henry  25.0          0.0000\n",
            "\n",
            "[519 rows x 3 columns]\n"
          ]
        }
      ]
    },
    {
      "cell_type": "markdown",
      "source": [
        "3.3 Exploratory Data Analysis with Group-by Method Practice Exercise:"
      ],
      "metadata": {
        "id": "31pgyeXY8-QL"
      }
    },
    {
      "cell_type": "markdown",
      "source": [
        "What percent of the total fare revenue came from each passenger class?\n",
        "To answer the question perform following operation:\n",
        "1. Calculate the total Fare paid across all passengers in the Titanic dataset.\n",
        "2. Subset for passengers in first class (Pclass is 1) and calculate their total fare.\n",
        "3. Do the same for second class (Pclass is 2) and third class (Pclass is 3).\n",
        "4. Combine the fare totals from first, second, and third classes into a list.\n",
        "5. Divide the totals for each class by the overall total fare to get the proportion of fare revenue by class."
      ],
      "metadata": {
        "id": "UAQG54Bt-vpR"
      }
    },
    {
      "cell_type": "code",
      "source": [
        "\n",
        "# Percentage of fare revenue by passenger class\n",
        "total_fare = titanic_df['Fare'].sum()\n",
        "first_class_fare = titanic_df[titanic_df['Pclass'] == 1]['Fare'].sum()\n",
        "second_class_fare = titanic_df[titanic_df['Pclass'] == 2]['Fare'].sum()\n",
        "third_class_fare = titanic_df[titanic_df['Pclass'] == 3]['Fare'].sum()\n",
        "\n",
        "fare_totals = [first_class_fare, second_class_fare, third_class_fare]\n",
        "fare_proportions = [fare / total_fare * 100 for fare in fare_totals]\n",
        "\n",
        "print(\" Percentage of Fare Revenue by Class\")\n",
        "for pclass, proportion in zip([1, 2, 3], fare_proportions):\n",
        "    print(f\"Class {pclass}: {proportion:.2f}%\")"
      ],
      "metadata": {
        "colab": {
          "base_uri": "https://localhost:8080/"
        },
        "id": "KmWdkjY39BRe",
        "outputId": "b45b5792-5dc4-47c5-aa31-3ae74a9a54e8"
      },
      "execution_count": 16,
      "outputs": [
        {
          "output_type": "stream",
          "name": "stdout",
          "text": [
            " Percentage of Fare Revenue by Class\n",
            "Class 1: 63.35%\n",
            "Class 2: 13.25%\n",
            "Class 3: 23.40%\n"
          ]
        }
      ]
    },
    {
      "cell_type": "markdown",
      "source": [
        "What percent of the total number of passengers on the Titanic belonged to each age group\n",
        "(e.g., child, adult, senior)?\n",
        "To answer the question perform following operation:\n",
        "1. Create a new column, age group, that categorizes passengers into \"child\" (age < 18), \"adult\" (age\n",
        "18{64), and \"senior\" (age 65 and above).\n",
        "2. Calculate the total number of passengers on the Titanic.\n",
        "3. Count the number of passengers in each age group.\n",
        "4. Divide the count of each age group by the total number of passengers to get the proportion of passengers\n",
        "in each age group.\n",
        "5. Display the proportion as a percentage.\n"
      ],
      "metadata": {
        "id": "t5480WyX-w4s"
      }
    },
    {
      "cell_type": "code",
      "source": [
        "# Percentage of passengers by age group\n",
        "titanic_df['age_group'] = pd.cut(titanic_df['Age'],\n",
        "                                  bins=[0, 18, 64, float('inf')],\n",
        "                                  labels=['child', 'adult', 'senior'])\n",
        "\n",
        "total_passengers = len(titanic_df)\n",
        "age_group_counts = titanic_df['age_group'].value_counts()\n",
        "age_group_proportions = age_group_counts / total_passengers * 100\n",
        "\n",
        "print(\"Percentage of Passengers by Age Group\")\n",
        "print(age_group_proportions)"
      ],
      "metadata": {
        "colab": {
          "base_uri": "https://localhost:8080/"
        },
        "id": "Cq5IuFPC9E_u",
        "outputId": "13ef8633-f740-4f71-e30e-b39ae02ba3d0"
      },
      "execution_count": 17,
      "outputs": [
        {
          "output_type": "stream",
          "name": "stdout",
          "text": [
            "Percentage of Passengers by Age Group\n",
            "age_group\n",
            "adult     83.164983\n",
            "child     15.600449\n",
            "senior     1.234568\n",
            "Name: count, dtype: float64\n"
          ]
        }
      ]
    },
    {
      "cell_type": "markdown",
      "source": [],
      "metadata": {
        "id": "IX7od7N-5gkn"
      }
    }
  ]
}