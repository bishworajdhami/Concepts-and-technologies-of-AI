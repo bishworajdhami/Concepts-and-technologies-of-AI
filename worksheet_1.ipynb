{
 "cells": [
  {
   "cell_type": "markdown",
   "id": "8d3ee6d0",
   "metadata": {},
   "source": [
    "4.1 Warming Up Exercise: Basic Vector and Matrix Operation with Numpy.\n",
    "Problem - 1: Array Creation:"
   ]
  },
  {
   "cell_type": "code",
   "execution_count": 17,
   "id": "5f446ac9",
   "metadata": {},
   "outputs": [
    {
     "name": "stdout",
     "output_type": "stream",
     "text": [
      "[[6.95334570e-310 8.29683145e-312]\n",
      " [8.29683145e-312 8.29683145e-312]]\n"
     ]
    }
   ],
   "source": [
    "#1. Initialize an empty array with size 2X2.\n",
    "\n",
    "import numpy as np\n",
    "\n",
    "empty_array = np.empty((2,2))\n",
    "print(empty_array)"
   ]
  },
  {
   "cell_type": "code",
   "execution_count": 4,
   "id": "3d8915b1",
   "metadata": {},
   "outputs": [
    {
     "name": "stdout",
     "output_type": "stream",
     "text": [
      "[[1. 1.]\n",
      " [1. 1.]\n",
      " [1. 1.]\n",
      " [1. 1.]]\n"
     ]
    }
   ],
   "source": [
    "#Initialize an all one array with size 4X2.\n",
    "\n",
    "import numpy as np\n",
    "\n",
    "ones_array = np.ones((4,2))\n",
    "print(ones_array)"
   ]
  },
  {
   "cell_type": "code",
   "execution_count": 8,
   "id": "7035eee6",
   "metadata": {},
   "outputs": [
    {
     "name": "stdout",
     "output_type": "stream",
     "text": [
      "[[6 6 6 6 6 6]\n",
      " [6 6 6 6 6 6]\n",
      " [6 6 6 6 6 6]\n",
      " [6 6 6 6 6 6]\n",
      " [6 6 6 6 6 6]\n",
      " [6 6 6 6 6 6]]\n"
     ]
    }
   ],
   "source": [
    "#3. Return a new array of given shape and type, filled with fill value.{Hint: np.full}\n",
    "\n",
    "import numpy as np\n",
    "\n",
    "# Define the shape, type, and fill value\n",
    "shape = (6, 6)  \n",
    "dtype = np.int32  \n",
    "fill_value = 6  \n",
    "\n",
    "# Create the array\n",
    "filled_array = np.full(shape, fill_value, dtype=dtype)\n",
    "print(filled_array)"
   ]
  },
  {
   "cell_type": "code",
   "execution_count": 12,
   "id": "03bd2825",
   "metadata": {},
   "outputs": [
    {
     "name": "stdout",
     "output_type": "stream",
     "text": [
      "[[0 0 0 0]\n",
      " [0 0 0 0]]\n"
     ]
    }
   ],
   "source": [
    "#4. Return a new array of zeros with same shape and type as a given array.{Hint: np.zeros_like}\n",
    "\n",
    "import numpy as np\n",
    "\n",
    "a = np.array([[1, 2, 3, 4], [4, 5, 6, 7]])\n",
    "\n",
    "zeros_array = np.zeros_like(a)\n",
    "print(zeros_array)"
   ]
  },
  {
   "cell_type": "code",
   "execution_count": 13,
   "id": "1b25227e",
   "metadata": {},
   "outputs": [
    {
     "name": "stdout",
     "output_type": "stream",
     "text": [
      "[[1 1 1 1]\n",
      " [1 1 1 1]]\n"
     ]
    }
   ],
   "source": [
    "#5. Return a new array of ones with same shape and type as a given array.{Hint: np.ones like}\n",
    "\n",
    "import numpy as np\n",
    "\n",
    "a = np.array([[1, 2, 3, 4], [4, 5, 6, 7]])\n",
    "\n",
    "ones_array = np.ones_like(a)\n",
    "print(ones_array)"
   ]
  },
  {
   "cell_type": "code",
   "execution_count": 16,
   "id": "6d8b16cb",
   "metadata": {},
   "outputs": [
    {
     "name": "stdout",
     "output_type": "stream",
     "text": [
      "[1 2 3 4]\n"
     ]
    }
   ],
   "source": [
    "#6. For an existing list new_list = [1,2,3,4] convert to an numpy array.{Hint: np.array()}\n",
    "\n",
    "import numpy as np\n",
    "\n",
    "new_list = [1, 2, 3, 4]\n",
    "numpy_array = np.array(new_list)\n",
    "print(numpy_array)"
   ]
  },
  {
   "cell_type": "markdown",
   "id": "e525773c",
   "metadata": {},
   "source": [
    "4.1.1 Problem - 2: Array Manipulation: Numerical Ranges and Array indexing: "
   ]
  },
  {
   "cell_type": "code",
   "execution_count": 18,
   "id": "32fae7cd",
   "metadata": {},
   "outputs": [
    {
     "name": "stdout",
     "output_type": "stream",
     "text": [
      "[10 11 12 13 14 15 16 17 18 19 20 21 22 23 24 25 26 27 28 29 30 31 32 33\n",
      " 34 35 36 37 38 39 40 41 42 43 44 45 46 47 48 49]\n"
     ]
    }
   ],
   "source": [
    "#1. Create an array with values ranging from 10 to 49. {Hint:np.arrange()}.\n",
    "\n",
    "import numpy as np\n",
    "\n",
    "array_range = np.arange(10, 50)\n",
    "print(array_range)"
   ]
  },
  {
   "cell_type": "code",
   "execution_count": 19,
   "id": "c60506dd",
   "metadata": {},
   "outputs": [
    {
     "name": "stdout",
     "output_type": "stream",
     "text": [
      "[[0 1 2]\n",
      " [3 4 5]\n",
      " [6 7 8]]\n"
     ]
    }
   ],
   "source": [
    "#2. Create a 3X3 matrix with values ranging from 0 to 8.{Hint:look for np.reshape()}\n",
    "\n",
    "import numpy as np\n",
    "\n",
    "matrix = np.arange(9).reshape(3, 3)\n",
    "print(matrix)"
   ]
  },
  {
   "cell_type": "code",
   "execution_count": 20,
   "id": "f4ecb277",
   "metadata": {},
   "outputs": [
    {
     "name": "stdout",
     "output_type": "stream",
     "text": [
      "[[1. 0. 0.]\n",
      " [0. 1. 0.]\n",
      " [0. 0. 1.]]\n"
     ]
    }
   ],
   "source": [
    "#3. Create a 3X3 identity matrix.{Hint:np.eye()}\n",
    "\n",
    "import numpy as np\n",
    "\n",
    "identity_matrix = np.eye(3)\n",
    "print(identity_matrix)"
   ]
  },
  {
   "cell_type": "code",
   "execution_count": 21,
   "id": "4684a976",
   "metadata": {},
   "outputs": [
    {
     "name": "stdout",
     "output_type": "stream",
     "text": [
      "0.5234185845081214\n"
     ]
    }
   ],
   "source": [
    "#4. Create a random array of size 30 and find the mean of the array.{Hint:check for np.random.random() and array.mean() function}\n",
    "\n",
    "import numpy as np\n",
    "\n",
    "# Create a random array of size 30\n",
    "random_array = np.random.random(30)\n",
    "\n",
    "# Calculate the mean\n",
    "mean_value = random_array.mean()\n",
    "print(mean_value)"
   ]
  },
  {
   "cell_type": "code",
   "execution_count": 22,
   "id": "2796cc1a",
   "metadata": {},
   "outputs": [
    {
     "name": "stdout",
     "output_type": "stream",
     "text": [
      "Minimum value: 0.007267554154343547\n",
      "Maximum value: 0.9899299240324703\n"
     ]
    }
   ],
   "source": [
    "#5. Create a 10X10 array with random values and find the minimum and maximum values.\n",
    "\n",
    "import numpy as np\n",
    "\n",
    "# Create a 10x10 array with random values\n",
    "random_array = np.random.random((10, 10))\n",
    "\n",
    "# Find the minimum and maximum values\n",
    "min_value = random_array.min()\n",
    "max_value = random_array.max()\n",
    "\n",
    "print(\"Minimum value:\", min_value)\n",
    "print(\"Maximum value:\", max_value)"
   ]
  },
  {
   "cell_type": "code",
   "execution_count": 23,
   "id": "ebc085e2",
   "metadata": {},
   "outputs": [
    {
     "name": "stdout",
     "output_type": "stream",
     "text": [
      "[0. 0. 0. 0. 1. 0. 0. 0. 0. 0.]\n"
     ]
    }
   ],
   "source": [
    "#6. Create a zero array of size 10 and replace 5th element with 1.\n",
    "\n",
    "import numpy as np\n",
    "\n",
    "# Create a zero array of size 10\n",
    "zero_array = np.zeros(10)\n",
    "\n",
    "# Replace the 5th element with 1\n",
    "zero_array[4] = 1\n",
    "\n",
    "print(zero_array)"
   ]
  },
  {
   "cell_type": "code",
   "execution_count": 26,
   "id": "705fc083",
   "metadata": {},
   "outputs": [
    {
     "name": "stdout",
     "output_type": "stream",
     "text": [
      "[0 4 0 0 2 1]\n"
     ]
    }
   ],
   "source": [
    "#7. Reverse an array arr = [1,2,0,0,4,0].\n",
    "\n",
    "import numpy as np\n",
    "\n",
    "arr = np.array([1, 2, 0, 0, 4, 0])\n",
    "reversed_arr = arr[::-1]  \n",
    "print(reversed_arr)"
   ]
  },
  {
   "cell_type": "code",
   "execution_count": 32,
   "id": "fd6489ec",
   "metadata": {},
   "outputs": [
    {
     "name": "stdout",
     "output_type": "stream",
     "text": [
      "[[1 1 1]\n",
      " [1 0 1]\n",
      " [1 1 1]]\n"
     ]
    }
   ],
   "source": [
    "#8. Create a 2d array with 1 on border and 0 inside.\n",
    "\n",
    "import numpy as np\n",
    "\n",
    "# Define the size of the array\n",
    "rows = 3 # Number of rows\n",
    "cols = 3  # Number of columns\n",
    "\n",
    "# Create an array with all ones\n",
    "array_2d = np.ones((rows, cols), dtype=int)  \n",
    "\n",
    "# Set the inner elements to 0\n",
    "array_2d[1:rows-1, 1:cols-1] = 0  \n",
    "\n",
    "print(array_2d)"
   ]
  },
  {
   "cell_type": "code",
   "execution_count": 36,
   "id": "c516cd71",
   "metadata": {},
   "outputs": [
    {
     "name": "stdout",
     "output_type": "stream",
     "text": [
      "[[0 1 0 1 0 1 0 1]\n",
      " [1 0 1 0 1 0 1 0]\n",
      " [0 1 0 1 0 1 0 1]\n",
      " [1 0 1 0 1 0 1 0]\n",
      " [0 1 0 1 0 1 0 1]\n",
      " [1 0 1 0 1 0 1 0]\n",
      " [0 1 0 1 0 1 0 1]\n",
      " [1 0 1 0 1 0 1 0]]\n"
     ]
    }
   ],
   "source": [
    "#9. Create a 8X8 matrix and fill it with a checkerboard pattern.\n",
    "\n",
    "import numpy as np\n",
    "\n",
    "checkerboard = np.zeros((8, 8), dtype=int)\n",
    "\n",
    "checkerboard[1::2, ::2] = 1\n",
    "checkerboard[::2, 1::2] = 1\n",
    "\n",
    "print(checkerboard)"
   ]
  },
  {
   "cell_type": "markdown",
   "id": "27eb9b16",
   "metadata": {},
   "source": [
    "Problem - 3: Array Operations:\n",
    "For the following arrays:\n",
    "\n",
    "x = np.array([[1,2],[3,5]]) and y = np.array([[5,6],[7,8]]);\n",
    "v = np.array([9,10]) and w = np.array([11,12]);\n",
    "\n",
    "Complete all the task using numpy:"
   ]
  },
  {
   "cell_type": "code",
   "execution_count": 1,
   "id": "368e7782",
   "metadata": {},
   "outputs": [
    {
     "name": "stdout",
     "output_type": "stream",
     "text": [
      "[[ 6  8]\n",
      " [10 13]]\n"
     ]
    }
   ],
   "source": [
    "#1. Add the two array.\n",
    "\n",
    "import numpy as np\n",
    "\n",
    "x = np.array([[1, 2], [3, 5]])\n",
    "y = np.array([[5, 6], [7, 8]])\n",
    "\n",
    "# Addition\n",
    "addition_result = x + y \n",
    "print(addition_result)"
   ]
  },
  {
   "cell_type": "code",
   "execution_count": 2,
   "id": "9c3a1f15",
   "metadata": {},
   "outputs": [
    {
     "name": "stdout",
     "output_type": "stream",
     "text": [
      "[[-4 -4]\n",
      " [-4 -3]]\n"
     ]
    }
   ],
   "source": [
    "#2. Subtract the two array.\n",
    "# Subtraction\n",
    "subtraction_result = x - y  \n",
    "print(subtraction_result)"
   ]
  },
  {
   "cell_type": "code",
   "execution_count": 3,
   "id": "f1af4a00",
   "metadata": {},
   "outputs": [
    {
     "name": "stdout",
     "output_type": "stream",
     "text": [
      "[[ 3  6]\n",
      " [ 9 15]]\n"
     ]
    }
   ],
   "source": [
    "#3. Multiply the array with any integers of your choice.\n",
    "# Multiplication with an integer\n",
    "integer_multiplier = 3  # Choose any integer\n",
    "multiplication_result = x * integer_multiplier  \n",
    "print(multiplication_result)"
   ]
  },
  {
   "cell_type": "code",
   "execution_count": 4,
   "id": "681add32",
   "metadata": {},
   "outputs": [
    {
     "name": "stdout",
     "output_type": "stream",
     "text": [
      "[[ 1  4]\n",
      " [ 9 25]]\n"
     ]
    }
   ],
   "source": [
    "#4. Find the square of each element of the array.\n",
    "# Square of each element\n",
    "square_result = x**2  \n",
    "print(square_result)"
   ]
  },
  {
   "cell_type": "code",
   "execution_count": 5,
   "id": "a2109fe0",
   "metadata": {},
   "outputs": [
    {
     "name": "stdout",
     "output_type": "stream",
     "text": [
      "219\n",
      "[29 77]\n",
      "[[19 22]\n",
      " [50 58]]\n"
     ]
    }
   ],
   "source": [
    "#5. Find the dot product between: v(and)w ; x(and)v ; x(and)y.\n",
    "v = np.array([9, 10])\n",
    "w = np.array([11, 12])\n",
    "\n",
    "# Dot product between v and w\n",
    "dot_product_vw = np.dot(v, w)  \n",
    "print(dot_product_vw)\n",
    "\n",
    "# Dot product between x and v\n",
    "dot_product_xv = np.dot(x, v)  \n",
    "print(dot_product_xv)\n",
    "\n",
    "# Dot product between x and y\n",
    "dot_product_xy = np.dot(x, y)  \n",
    "print(dot_product_xy)"
   ]
  },
  {
   "cell_type": "code",
   "execution_count": 6,
   "id": "3742efbe",
   "metadata": {},
   "outputs": [
    {
     "name": "stdout",
     "output_type": "stream",
     "text": [
      "[[1 2]\n",
      " [3 5]\n",
      " [5 6]\n",
      " [7 8]]\n",
      "[[ 9 10]\n",
      " [11 12]]\n"
     ]
    }
   ],
   "source": [
    "#6. Concatenate x(and)y along row and Concatenate v(and)w along column.{Hint:try np.concatenate() or np.vstack() functions.\n",
    "# Concatenate x and y along row\n",
    "row_concatenation = np.concatenate((x, y), axis=0)  \n",
    "print(row_concatenation)\n",
    "\n",
    "# Concatenate v and w along column\n",
    "column_concatenation = np.vstack((v, w))  \n",
    "print(column_concatenation)"
   ]
  },
  {
   "cell_type": "code",
   "execution_count": null,
   "id": "2f35122d",
   "metadata": {},
   "outputs": [],
   "source": [
    "#7. Concatenate x(and)v; if you get an error, observe and explain why did you get the error?\n",
    "# Attempt to concatenate x and v\n",
    "# concatenation_result = np.concatenate((x, v), axis=0)  # This will raise an error"
   ]
  },
  {
   "attachments": {},
   "cell_type": "markdown",
   "id": "6aa469e1",
   "metadata": {},
   "source": [
    "For the following arrays:\n",
    "A = np.array([[3,4],[7,8]]) and B = np.array([[5,3],[2,1]]);\n",
    "Prove following with Numpy:"
   ]
  },
  {
   "cell_type": "code",
   "execution_count": 7,
   "id": "e1569a63",
   "metadata": {},
   "outputs": [
    {
     "name": "stdout",
     "output_type": "stream",
     "text": [
      "True\n"
     ]
    }
   ],
   "source": [
    "#1. Prove A.A^−1 = I.\n",
    "import numpy as np\n",
    "\n",
    "A = np.array([[3, 4], [7, 8]])\n",
    "A_inv = np.linalg.inv(A)\n",
    "result = np.dot(A, A_inv)\n",
    "\n",
    "# Check if result is approximately equal to identity matrix\n",
    "identity_matrix = np.eye(2)\n",
    "print(np.allclose(result, identity_matrix))"
   ]
  },
  {
   "cell_type": "code",
   "execution_count": 12,
   "id": "227cdfb2",
   "metadata": {},
   "outputs": [
    {
     "name": "stdout",
     "output_type": "stream",
     "text": [
      "False\n",
      "AB:\n",
      "[[23 13]\n",
      " [51 29]]\n",
      "BA:\n",
      "[[36 44]\n",
      " [13 16]]\n"
     ]
    }
   ],
   "source": [
    "#2. Prove AB ̸= BA.\n",
    "import numpy as np\n",
    "\n",
    "A = np.array([[3, 4], [7, 8]])\n",
    "B = np.array([[5, 3], [2, 1]])\n",
    "\n",
    "AB = np.dot(A, B)\n",
    "BA = np.dot(B, A)\n",
    "\n",
    "# Check if AB is not equal to BA\n",
    "print(np.array_equal(AB, BA))  # This should print False\n",
    "\n",
    "print(\"AB:\")\n",
    "print(AB)\n",
    "print(\"BA:\")\n",
    "print(BA)"
   ]
  },
  {
   "cell_type": "code",
   "execution_count": 13,
   "id": "ed2070cc",
   "metadata": {},
   "outputs": [
    {
     "name": "stdout",
     "output_type": "stream",
     "text": [
      "True\n",
      "(AB)^T:\n",
      "[[23 51]\n",
      " [13 29]]\n",
      "B^T A^T:\n",
      "[[23 51]\n",
      " [13 29]]\n"
     ]
    }
   ],
   "source": [
    "#3. Prove (AB)^T = B^TA^T\n",
    "\n",
    "\n",
    "AB_T = np.transpose(AB)\n",
    "\n",
    "B_T = np.transpose(B)\n",
    "A_T = np.transpose(A)\n",
    "B_TA_T = np.dot(B_T, A_T)\n",
    "\n",
    "# Check if (AB)^T is equal to B^T A^T\n",
    "print(np.array_equal(AB_T, B_TA_T))  # This should print True\n",
    "\n",
    "print(\"(AB)^T:\")\n",
    "print(AB_T)\n",
    "print(\"B^T A^T:\")\n",
    "print(B_TA_T)"
   ]
  },
  {
   "cell_type": "markdown",
   "id": "479ec54a",
   "metadata": {},
   "source": [
    "Solve the following system of Linear equation using Inverse Methods.\n",
    "\n",
    "2x − 3y + z = −1\n",
    "x − y + 2z = −3\n",
    "3x + y − z = 9\n",
    "\n",
    "{Hint: First use Numpy array to represent the equation in Matrix form. Then Solve for: AX = B}"
   ]
  },
  {
   "cell_type": "code",
   "execution_count": 14,
   "id": "9c1e0d2d",
   "metadata": {},
   "outputs": [
    {
     "name": "stdout",
     "output_type": "stream",
     "text": [
      "Solution:\n",
      "[ 2.  1. -2.]\n"
     ]
    }
   ],
   "source": [
    "import numpy as np\n",
    "\n",
    "# Define matrices A and B\n",
    "A = np.array([[2, -3, 1], [1, -1, 2], [3, 1, -1]])\n",
    "B = np.array([-1, -3, 9])\n",
    "\n",
    "# Calculate the inverse of A\n",
    "A_inv = np.linalg.inv(A)\n",
    "\n",
    "# Solve for X\n",
    "X = np.dot(A_inv, B)\n",
    "\n",
    "# Display the result\n",
    "print(\"Solution:\")\n",
    "print(X)"
   ]
  },
  {
   "cell_type": "markdown",
   "id": "3f96398c",
   "metadata": {},
   "source": [
    "Now: solve the above equation using np.linalg.inv function.{Explore more about ”linalg” function\n",
    "of Numpy}"
   ]
  },
  {
   "cell_type": "code",
   "execution_count": 15,
   "id": "ffd4035b",
   "metadata": {},
   "outputs": [
    {
     "name": "stdout",
     "output_type": "stream",
     "text": [
      "Solution (x, y, z):\n",
      "[ 2.  1. -2.]\n"
     ]
    }
   ],
   "source": [
    "import numpy as np\n",
    "\n",
    "# Define matrices A and B\n",
    "A = np.array([[2, -3, 1], [1, -1, 2], [3, 1, -1]])\n",
    "B = np.array([-1, -3, 9])\n",
    "\n",
    "# Calculate the inverse of A\n",
    "A_inv = np.linalg.inv(A)\n",
    "\n",
    "# Solve for X\n",
    "X = np.dot(A_inv, B)\n",
    "\n",
    "# Display the result\n",
    "print(\"Solution (x, y, z):\")\n",
    "print(X)"
   ]
  },
  {
   "cell_type": "code",
   "execution_count": null,
   "id": "ce2dc895",
   "metadata": {},
   "outputs": [],
   "source": []
  }
 ],
 "metadata": {
  "kernelspec": {
   "display_name": "Python 3 (ipykernel)",
   "language": "python",
   "name": "python3"
  },
  "language_info": {
   "codemirror_mode": {
    "name": "ipython",
    "version": 3
   },
   "file_extension": ".py",
   "mimetype": "text/x-python",
   "name": "python",
   "nbconvert_exporter": "python",
   "pygments_lexer": "ipython3",
   "version": "3.11.5"
  }
 },
 "nbformat": 4,
 "nbformat_minor": 5
}
